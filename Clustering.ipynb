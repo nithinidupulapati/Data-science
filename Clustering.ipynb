{
 "cells": [
  {
   "cell_type": "code",
   "execution_count": 1,
   "metadata": {},
   "outputs": [],
   "source": [
    "import numpy as np\n",
    "from sklearn.cluster import KMeans\n",
    "import scipy.misc\n",
    "import matplotlib.pyplot as plt\n",
    "import pandas as pd\n",
    "%matplotlib inline"
   ]
  },
  {
   "cell_type": "code",
   "execution_count": 3,
   "metadata": {},
   "outputs": [],
   "source": [
    "df= pd.read_csv('data_stocks.csv')"
   ]
  },
  {
   "cell_type": "code",
   "execution_count": 5,
   "metadata": {},
   "outputs": [
    {
     "name": "stdout",
     "output_type": "stream",
     "text": [
      "<class 'pandas.core.frame.DataFrame'>\n",
      "RangeIndex: 41266 entries, 0 to 41265\n",
      "Columns: 502 entries, DATE to NYSE.ZTS\n",
      "dtypes: float64(501), int64(1)\n",
      "memory usage: 158.0 MB\n"
     ]
    }
   ],
   "source": [
    "df.info()"
   ]
  },
  {
   "cell_type": "markdown",
   "metadata": {},
   "source": [
    "Problem Statement\n",
    "\n",
    "Problem 1: There are various stocks for which we have collected a data set, which all stocks are apparently similar in performance\n",
    "\n",
    "Problem 2: How many Unique patterns that exist in the historical stock data set, based on fluctuations in price.\n",
    "\n",
    "Problem 3: Identify which all stocks are moving together and which all stocks are different from each other"
   ]
  },
  {
   "cell_type": "code",
   "execution_count": 7,
   "metadata": {},
   "outputs": [],
   "source": [
    "df1 = df.copy()\n",
    "df1.drop(['DATE','SP500'],inplace=True,axis=1)"
   ]
  },
  {
   "cell_type": "code",
   "execution_count": 8,
   "metadata": {},
   "outputs": [],
   "source": [
    "cor= df1.corr()"
   ]
  },
  {
   "cell_type": "code",
   "execution_count": 11,
   "metadata": {},
   "outputs": [],
   "source": [
    "cor_df= pd.DataFrame(data= cor.values, columns= cor.index, index = cor.index)"
   ]
  },
  {
   "cell_type": "code",
   "execution_count": 12,
   "metadata": {},
   "outputs": [
    {
     "data": {
      "text/html": [
       "<div>\n",
       "<style scoped>\n",
       "    .dataframe tbody tr th:only-of-type {\n",
       "        vertical-align: middle;\n",
       "    }\n",
       "\n",
       "    .dataframe tbody tr th {\n",
       "        vertical-align: top;\n",
       "    }\n",
       "\n",
       "    .dataframe thead th {\n",
       "        text-align: right;\n",
       "    }\n",
       "</style>\n",
       "<table border=\"1\" class=\"dataframe\">\n",
       "  <thead>\n",
       "    <tr style=\"text-align: right;\">\n",
       "      <th></th>\n",
       "      <th>NASDAQ.AAL</th>\n",
       "      <th>NASDAQ.AAPL</th>\n",
       "      <th>NASDAQ.ADBE</th>\n",
       "      <th>NASDAQ.ADI</th>\n",
       "      <th>NASDAQ.ADP</th>\n",
       "      <th>NASDAQ.ADSK</th>\n",
       "      <th>NASDAQ.AKAM</th>\n",
       "      <th>NASDAQ.ALXN</th>\n",
       "      <th>NASDAQ.AMAT</th>\n",
       "      <th>NASDAQ.AMD</th>\n",
       "      <th>...</th>\n",
       "      <th>NYSE.WYN</th>\n",
       "      <th>NYSE.XEC</th>\n",
       "      <th>NYSE.XEL</th>\n",
       "      <th>NYSE.XL</th>\n",
       "      <th>NYSE.XOM</th>\n",
       "      <th>NYSE.XRX</th>\n",
       "      <th>NYSE.XYL</th>\n",
       "      <th>NYSE.YUM</th>\n",
       "      <th>NYSE.ZBH</th>\n",
       "      <th>NYSE.ZTS</th>\n",
       "    </tr>\n",
       "  </thead>\n",
       "  <tbody>\n",
       "    <tr>\n",
       "      <th>NASDAQ.AAL</th>\n",
       "      <td>1.000000</td>\n",
       "      <td>0.082065</td>\n",
       "      <td>0.542213</td>\n",
       "      <td>0.209446</td>\n",
       "      <td>0.245801</td>\n",
       "      <td>0.610881</td>\n",
       "      <td>-0.441142</td>\n",
       "      <td>0.009581</td>\n",
       "      <td>0.681863</td>\n",
       "      <td>0.272518</td>\n",
       "      <td>...</td>\n",
       "      <td>0.798624</td>\n",
       "      <td>-0.744085</td>\n",
       "      <td>0.284370</td>\n",
       "      <td>0.810955</td>\n",
       "      <td>-0.070950</td>\n",
       "      <td>0.522341</td>\n",
       "      <td>0.395730</td>\n",
       "      <td>0.642336</td>\n",
       "      <td>0.588241</td>\n",
       "      <td>0.753567</td>\n",
       "    </tr>\n",
       "    <tr>\n",
       "      <th>NASDAQ.AAPL</th>\n",
       "      <td>0.082065</td>\n",
       "      <td>1.000000</td>\n",
       "      <td>0.714578</td>\n",
       "      <td>0.264269</td>\n",
       "      <td>0.265641</td>\n",
       "      <td>0.645233</td>\n",
       "      <td>-0.712522</td>\n",
       "      <td>0.326712</td>\n",
       "      <td>0.545541</td>\n",
       "      <td>-0.238091</td>\n",
       "      <td>...</td>\n",
       "      <td>0.306664</td>\n",
       "      <td>-0.250959</td>\n",
       "      <td>0.738655</td>\n",
       "      <td>0.266994</td>\n",
       "      <td>-0.671488</td>\n",
       "      <td>0.341687</td>\n",
       "      <td>0.693062</td>\n",
       "      <td>0.627531</td>\n",
       "      <td>-0.580055</td>\n",
       "      <td>0.442600</td>\n",
       "    </tr>\n",
       "    <tr>\n",
       "      <th>NASDAQ.ADBE</th>\n",
       "      <td>0.542213</td>\n",
       "      <td>0.714578</td>\n",
       "      <td>1.000000</td>\n",
       "      <td>0.259282</td>\n",
       "      <td>0.476496</td>\n",
       "      <td>0.872353</td>\n",
       "      <td>-0.759604</td>\n",
       "      <td>0.488717</td>\n",
       "      <td>0.733609</td>\n",
       "      <td>0.201821</td>\n",
       "      <td>...</td>\n",
       "      <td>0.718851</td>\n",
       "      <td>-0.792876</td>\n",
       "      <td>0.850709</td>\n",
       "      <td>0.722161</td>\n",
       "      <td>-0.758967</td>\n",
       "      <td>0.806615</td>\n",
       "      <td>0.911106</td>\n",
       "      <td>0.939185</td>\n",
       "      <td>-0.067235</td>\n",
       "      <td>0.776052</td>\n",
       "    </tr>\n",
       "    <tr>\n",
       "      <th>NASDAQ.ADI</th>\n",
       "      <td>0.209446</td>\n",
       "      <td>0.264269</td>\n",
       "      <td>0.259282</td>\n",
       "      <td>1.000000</td>\n",
       "      <td>-0.085074</td>\n",
       "      <td>0.470756</td>\n",
       "      <td>-0.323603</td>\n",
       "      <td>-0.409747</td>\n",
       "      <td>0.504019</td>\n",
       "      <td>0.042083</td>\n",
       "      <td>...</td>\n",
       "      <td>0.203224</td>\n",
       "      <td>-0.160317</td>\n",
       "      <td>0.308948</td>\n",
       "      <td>0.050697</td>\n",
       "      <td>-0.024428</td>\n",
       "      <td>-0.017967</td>\n",
       "      <td>0.067258</td>\n",
       "      <td>0.261173</td>\n",
       "      <td>0.130786</td>\n",
       "      <td>0.351893</td>\n",
       "    </tr>\n",
       "    <tr>\n",
       "      <th>NASDAQ.ADP</th>\n",
       "      <td>0.245801</td>\n",
       "      <td>0.265641</td>\n",
       "      <td>0.476496</td>\n",
       "      <td>-0.085074</td>\n",
       "      <td>1.000000</td>\n",
       "      <td>0.325630</td>\n",
       "      <td>-0.229119</td>\n",
       "      <td>0.572143</td>\n",
       "      <td>0.099934</td>\n",
       "      <td>0.447506</td>\n",
       "      <td>...</td>\n",
       "      <td>0.321414</td>\n",
       "      <td>-0.438662</td>\n",
       "      <td>0.443773</td>\n",
       "      <td>0.347293</td>\n",
       "      <td>-0.463670</td>\n",
       "      <td>0.589464</td>\n",
       "      <td>0.634191</td>\n",
       "      <td>0.418591</td>\n",
       "      <td>-0.201805</td>\n",
       "      <td>0.160213</td>\n",
       "    </tr>\n",
       "  </tbody>\n",
       "</table>\n",
       "<p>5 rows × 500 columns</p>\n",
       "</div>"
      ],
      "text/plain": [
       "             NASDAQ.AAL  NASDAQ.AAPL  NASDAQ.ADBE  NASDAQ.ADI  NASDAQ.ADP  \\\n",
       "NASDAQ.AAL     1.000000     0.082065     0.542213    0.209446    0.245801   \n",
       "NASDAQ.AAPL    0.082065     1.000000     0.714578    0.264269    0.265641   \n",
       "NASDAQ.ADBE    0.542213     0.714578     1.000000    0.259282    0.476496   \n",
       "NASDAQ.ADI     0.209446     0.264269     0.259282    1.000000   -0.085074   \n",
       "NASDAQ.ADP     0.245801     0.265641     0.476496   -0.085074    1.000000   \n",
       "\n",
       "             NASDAQ.ADSK  NASDAQ.AKAM  NASDAQ.ALXN  NASDAQ.AMAT  NASDAQ.AMD  \\\n",
       "NASDAQ.AAL      0.610881    -0.441142     0.009581     0.681863    0.272518   \n",
       "NASDAQ.AAPL     0.645233    -0.712522     0.326712     0.545541   -0.238091   \n",
       "NASDAQ.ADBE     0.872353    -0.759604     0.488717     0.733609    0.201821   \n",
       "NASDAQ.ADI      0.470756    -0.323603    -0.409747     0.504019    0.042083   \n",
       "NASDAQ.ADP      0.325630    -0.229119     0.572143     0.099934    0.447506   \n",
       "\n",
       "             ...  NYSE.WYN  NYSE.XEC  NYSE.XEL   NYSE.XL  NYSE.XOM  NYSE.XRX  \\\n",
       "NASDAQ.AAL   ...  0.798624 -0.744085  0.284370  0.810955 -0.070950  0.522341   \n",
       "NASDAQ.AAPL  ...  0.306664 -0.250959  0.738655  0.266994 -0.671488  0.341687   \n",
       "NASDAQ.ADBE  ...  0.718851 -0.792876  0.850709  0.722161 -0.758967  0.806615   \n",
       "NASDAQ.ADI   ...  0.203224 -0.160317  0.308948  0.050697 -0.024428 -0.017967   \n",
       "NASDAQ.ADP   ...  0.321414 -0.438662  0.443773  0.347293 -0.463670  0.589464   \n",
       "\n",
       "             NYSE.XYL  NYSE.YUM  NYSE.ZBH  NYSE.ZTS  \n",
       "NASDAQ.AAL   0.395730  0.642336  0.588241  0.753567  \n",
       "NASDAQ.AAPL  0.693062  0.627531 -0.580055  0.442600  \n",
       "NASDAQ.ADBE  0.911106  0.939185 -0.067235  0.776052  \n",
       "NASDAQ.ADI   0.067258  0.261173  0.130786  0.351893  \n",
       "NASDAQ.ADP   0.634191  0.418591 -0.201805  0.160213  \n",
       "\n",
       "[5 rows x 500 columns]"
      ]
     },
     "execution_count": 12,
     "metadata": {},
     "output_type": "execute_result"
    }
   ],
   "source": [
    "cor_df.head()\n"
   ]
  },
  {
   "cell_type": "code",
   "execution_count": 22,
   "metadata": {},
   "outputs": [
    {
     "data": {
      "text/html": [
       "<div>\n",
       "<style scoped>\n",
       "    .dataframe tbody tr th:only-of-type {\n",
       "        vertical-align: middle;\n",
       "    }\n",
       "\n",
       "    .dataframe tbody tr th {\n",
       "        vertical-align: top;\n",
       "    }\n",
       "\n",
       "    .dataframe thead th {\n",
       "        text-align: right;\n",
       "    }\n",
       "</style>\n",
       "<table border=\"1\" class=\"dataframe\">\n",
       "  <thead>\n",
       "    <tr style=\"text-align: right;\">\n",
       "      <th></th>\n",
       "      <th>NASDAQ.AAL</th>\n",
       "      <th>NASDAQ.AAPL</th>\n",
       "      <th>NASDAQ.ADBE</th>\n",
       "      <th>NASDAQ.ADI</th>\n",
       "      <th>NASDAQ.ADP</th>\n",
       "      <th>NASDAQ.ADSK</th>\n",
       "      <th>NASDAQ.AKAM</th>\n",
       "      <th>NASDAQ.ALXN</th>\n",
       "      <th>NASDAQ.AMAT</th>\n",
       "      <th>NASDAQ.AMD</th>\n",
       "      <th>...</th>\n",
       "      <th>NYSE.WYN</th>\n",
       "      <th>NYSE.XEC</th>\n",
       "      <th>NYSE.XEL</th>\n",
       "      <th>NYSE.XL</th>\n",
       "      <th>NYSE.XOM</th>\n",
       "      <th>NYSE.XRX</th>\n",
       "      <th>NYSE.XYL</th>\n",
       "      <th>NYSE.YUM</th>\n",
       "      <th>NYSE.ZBH</th>\n",
       "      <th>NYSE.ZTS</th>\n",
       "    </tr>\n",
       "  </thead>\n",
       "  <tbody>\n",
       "    <tr>\n",
       "      <th>NASDAQ.AAL</th>\n",
       "      <td>1.000000</td>\n",
       "      <td>0.082065</td>\n",
       "      <td>0.542213</td>\n",
       "      <td>0.209446</td>\n",
       "      <td>0.245801</td>\n",
       "      <td>0.610881</td>\n",
       "      <td>-0.441142</td>\n",
       "      <td>0.009581</td>\n",
       "      <td>0.681863</td>\n",
       "      <td>0.272518</td>\n",
       "      <td>...</td>\n",
       "      <td>0.798624</td>\n",
       "      <td>-0.744085</td>\n",
       "      <td>0.284370</td>\n",
       "      <td>0.810955</td>\n",
       "      <td>-0.070950</td>\n",
       "      <td>0.522341</td>\n",
       "      <td>0.395730</td>\n",
       "      <td>0.642336</td>\n",
       "      <td>0.588241</td>\n",
       "      <td>0.753567</td>\n",
       "    </tr>\n",
       "    <tr>\n",
       "      <th>NASDAQ.AMZN</th>\n",
       "      <td>0.803319</td>\n",
       "      <td>0.370111</td>\n",
       "      <td>0.730719</td>\n",
       "      <td>0.386619</td>\n",
       "      <td>0.252712</td>\n",
       "      <td>0.828757</td>\n",
       "      <td>-0.648854</td>\n",
       "      <td>0.059345</td>\n",
       "      <td>0.897693</td>\n",
       "      <td>0.170978</td>\n",
       "      <td>...</td>\n",
       "      <td>0.879967</td>\n",
       "      <td>-0.733852</td>\n",
       "      <td>0.530139</td>\n",
       "      <td>0.804398</td>\n",
       "      <td>-0.203979</td>\n",
       "      <td>0.533584</td>\n",
       "      <td>0.503878</td>\n",
       "      <td>0.793529</td>\n",
       "      <td>0.419472</td>\n",
       "      <td>0.872246</td>\n",
       "    </tr>\n",
       "    <tr>\n",
       "      <th>NASDAQ.EXPE</th>\n",
       "      <td>0.812206</td>\n",
       "      <td>0.379622</td>\n",
       "      <td>0.818384</td>\n",
       "      <td>0.218189</td>\n",
       "      <td>0.369697</td>\n",
       "      <td>0.834440</td>\n",
       "      <td>-0.707045</td>\n",
       "      <td>0.296553</td>\n",
       "      <td>0.817588</td>\n",
       "      <td>0.199334</td>\n",
       "      <td>...</td>\n",
       "      <td>0.931258</td>\n",
       "      <td>-0.825230</td>\n",
       "      <td>0.591514</td>\n",
       "      <td>0.859042</td>\n",
       "      <td>-0.368192</td>\n",
       "      <td>0.712184</td>\n",
       "      <td>0.658203</td>\n",
       "      <td>0.883902</td>\n",
       "      <td>0.347660</td>\n",
       "      <td>0.913009</td>\n",
       "    </tr>\n",
       "    <tr>\n",
       "      <th>NASDAQ.HAS</th>\n",
       "      <td>0.832713</td>\n",
       "      <td>-0.274890</td>\n",
       "      <td>0.251696</td>\n",
       "      <td>0.252954</td>\n",
       "      <td>-0.030201</td>\n",
       "      <td>0.394658</td>\n",
       "      <td>-0.206013</td>\n",
       "      <td>-0.208923</td>\n",
       "      <td>0.530874</td>\n",
       "      <td>0.258187</td>\n",
       "      <td>...</td>\n",
       "      <td>0.698866</td>\n",
       "      <td>-0.609800</td>\n",
       "      <td>0.035341</td>\n",
       "      <td>0.625126</td>\n",
       "      <td>0.264187</td>\n",
       "      <td>0.306630</td>\n",
       "      <td>0.055201</td>\n",
       "      <td>0.406760</td>\n",
       "      <td>0.839854</td>\n",
       "      <td>0.651842</td>\n",
       "    </tr>\n",
       "    <tr>\n",
       "      <th>NYSE.CMI</th>\n",
       "      <td>0.810391</td>\n",
       "      <td>0.088336</td>\n",
       "      <td>0.528227</td>\n",
       "      <td>0.206259</td>\n",
       "      <td>0.179664</td>\n",
       "      <td>0.577301</td>\n",
       "      <td>-0.458993</td>\n",
       "      <td>0.140823</td>\n",
       "      <td>0.690999</td>\n",
       "      <td>0.184153</td>\n",
       "      <td>...</td>\n",
       "      <td>0.803020</td>\n",
       "      <td>-0.677137</td>\n",
       "      <td>0.226787</td>\n",
       "      <td>0.767652</td>\n",
       "      <td>-0.003402</td>\n",
       "      <td>0.521924</td>\n",
       "      <td>0.370814</td>\n",
       "      <td>0.616157</td>\n",
       "      <td>0.581472</td>\n",
       "      <td>0.753369</td>\n",
       "    </tr>\n",
       "  </tbody>\n",
       "</table>\n",
       "<p>5 rows × 500 columns</p>\n",
       "</div>"
      ],
      "text/plain": [
       "             NASDAQ.AAL  NASDAQ.AAPL  NASDAQ.ADBE  NASDAQ.ADI  NASDAQ.ADP  \\\n",
       "NASDAQ.AAL     1.000000     0.082065     0.542213    0.209446    0.245801   \n",
       "NASDAQ.AMZN    0.803319     0.370111     0.730719    0.386619    0.252712   \n",
       "NASDAQ.EXPE    0.812206     0.379622     0.818384    0.218189    0.369697   \n",
       "NASDAQ.HAS     0.832713    -0.274890     0.251696    0.252954   -0.030201   \n",
       "NYSE.CMI       0.810391     0.088336     0.528227    0.206259    0.179664   \n",
       "\n",
       "             NASDAQ.ADSK  NASDAQ.AKAM  NASDAQ.ALXN  NASDAQ.AMAT  NASDAQ.AMD  \\\n",
       "NASDAQ.AAL      0.610881    -0.441142     0.009581     0.681863    0.272518   \n",
       "NASDAQ.AMZN     0.828757    -0.648854     0.059345     0.897693    0.170978   \n",
       "NASDAQ.EXPE     0.834440    -0.707045     0.296553     0.817588    0.199334   \n",
       "NASDAQ.HAS      0.394658    -0.206013    -0.208923     0.530874    0.258187   \n",
       "NYSE.CMI        0.577301    -0.458993     0.140823     0.690999    0.184153   \n",
       "\n",
       "             ...  NYSE.WYN  NYSE.XEC  NYSE.XEL   NYSE.XL  NYSE.XOM  NYSE.XRX  \\\n",
       "NASDAQ.AAL   ...  0.798624 -0.744085  0.284370  0.810955 -0.070950  0.522341   \n",
       "NASDAQ.AMZN  ...  0.879967 -0.733852  0.530139  0.804398 -0.203979  0.533584   \n",
       "NASDAQ.EXPE  ...  0.931258 -0.825230  0.591514  0.859042 -0.368192  0.712184   \n",
       "NASDAQ.HAS   ...  0.698866 -0.609800  0.035341  0.625126  0.264187  0.306630   \n",
       "NYSE.CMI     ...  0.803020 -0.677137  0.226787  0.767652 -0.003402  0.521924   \n",
       "\n",
       "             NYSE.XYL  NYSE.YUM  NYSE.ZBH  NYSE.ZTS  \n",
       "NASDAQ.AAL   0.395730  0.642336  0.588241  0.753567  \n",
       "NASDAQ.AMZN  0.503878  0.793529  0.419472  0.872246  \n",
       "NASDAQ.EXPE  0.658203  0.883902  0.347660  0.913009  \n",
       "NASDAQ.HAS   0.055201  0.406760  0.839854  0.651842  \n",
       "NYSE.CMI     0.370814  0.616157  0.581472  0.753369  \n",
       "\n",
       "[5 rows x 500 columns]"
      ]
     },
     "execution_count": 22,
     "metadata": {},
     "output_type": "execute_result"
    }
   ],
   "source": [
    "cor_df[cor_df['NASDAQ.AAL'].values > 0.80][:5]"
   ]
  },
  {
   "cell_type": "code",
   "execution_count": 23,
   "metadata": {},
   "outputs": [],
   "source": [
    "from numpy import vstack,array\n",
    "from numpy.random import rand\n",
    "import numpy as np\n",
    "from scipy.cluster.vq import kmeans,vq\n",
    "import pandas as pd\n",
    "from math import sqrt\n",
    "from sklearn.cluster import KMeans\n",
    "\n",
    "import warnings\n",
    "warnings.filterwarnings('ignore')"
   ]
  },
  {
   "cell_type": "code",
   "execution_count": 26,
   "metadata": {},
   "outputs": [],
   "source": [
    "returns = df.pct_change().mean()*252\n",
    "returns = pd.DataFrame(returns)\n",
    "returns.columns = ['Returns']\n",
    "returns.Volatility = df.pct_change().std()*sqrt(252)\n"
   ]
  },
  {
   "cell_type": "code",
   "execution_count": 27,
   "metadata": {},
   "outputs": [
    {
     "data": {
      "text/plain": [
       "array([[ 5.29417040e-05,  6.63252588e-05],\n",
       "       [ 2.78917600e-04,  3.56742460e-03],\n",
       "       [ 4.40973105e-04,  1.43261096e-02],\n",
       "       ...,\n",
       "       [ 1.15122487e-03,  6.87543226e-03],\n",
       "       [-3.36300647e-04,  1.11087836e-02],\n",
       "       [ 1.02000439e-03,  8.44783370e-03]])"
      ]
     },
     "execution_count": 27,
     "metadata": {},
     "output_type": "execute_result"
    }
   ],
   "source": [
    "dta = np.asarray([np.asarray(returns.Returns), np.asarray(returns.Volatility)]).T\n",
    "dta"
   ]
  },
  {
   "cell_type": "code",
   "execution_count": 31,
   "metadata": {},
   "outputs": [
    {
     "data": {
      "image/png": "[encoded data removed]",
      "text/plain": [
       "<Figure size 1080x360 with 1 Axes>"
      ]
     },
     "metadata": {
      "needs_background": "light"
     },
     "output_type": "display_data"
    }
   ],
   "source": [
    "X = dta\n",
    "distortions =[]\n",
    "for k in range(2,20):\n",
    "    k_means = KMeans(n_clusters = k)\n",
    "    k_means.fit(X)\n",
    "    distortions.append(k_means.inertia_)\n",
    "\n",
    "fig = plt.figure(figsize=(15,5))\n",
    "plt.plot(range(2,20),distortions)\n",
    "plt.grid(True)\n",
    "plt.title('Elbow-Curve')\n",
    "plt.show()"
   ]
  },
  {
   "cell_type": "code",
   "execution_count": 32,
   "metadata": {},
   "outputs": [
    {
     "data": {
      "image/png": "[encoded data removed]",
      "text/plain": [
       "<Figure size 432x288 with 1 Axes>"
      ]
     },
     "metadata": {
      "needs_background": "light"
     },
     "output_type": "display_data"
    }
   ],
   "source": [
    "from pylab import plot, show\n",
    "# Computing kmeans with K =5 (5 clusters)\n",
    "centroids,_= kmeans(dta, 5)\n",
    "# Assign each sample to a cluster\n",
    "idx,_ = vq(dta, centroids)\n",
    "\n",
    "# some plotting using numpy's logical indexing\n",
    "plot(dta[idx==0,0],dta[idx==0,1],'ob',\n",
    "     dta[idx==1,0],dta[idx==1,1],'oy',\n",
    "     dta[idx==2,0],dta[idx==2,1],'or',\n",
    "     dta[idx==3,0],dta[idx==3,1],'og',\n",
    "     dta[idx==4,0],dta[idx==4,1],'om')\n",
    "plot(centroids[:,0],centroids[:,1],'sg',markersize=8)\n",
    "show()"
   ]
  },
  {
   "cell_type": "code",
   "execution_count": 33,
   "metadata": {},
   "outputs": [
    {
     "name": "stdout",
     "output_type": "stream",
     "text": [
      "Returns    NYSE.XRX\n",
      "dtype: object\n"
     ]
    }
   ],
   "source": [
    "print(returns.idxmax())"
   ]
  },
  {
   "cell_type": "code",
   "execution_count": 35,
   "metadata": {},
   "outputs": [],
   "source": [
    "#drop the relevant stock from our data\n",
    "df.drop(['NYSE.XRX','DATE','SP500'],inplace=True,axis=1)\n",
    "\n",
    "returns = df.pct_change().mean()*252\n",
    "returns = pd.DataFrame(returns)\n",
    "returns.columns = ['Returns']\n",
    "returns.Volatility = df.pct_change().std()*sqrt(252)\n",
    "\n",
    "# format the data into numpy array to feed into K-means algorithm\n",
    " \n",
    "#recreate data to feed into the algorithm\n",
    "dta = np.asarray([np.asarray(returns.Returns), np.asarray(returns.Volatility)]).T"
   ]
  },
  {
   "cell_type": "code",
   "execution_count": 36,
   "metadata": {},
   "outputs": [
    {
     "data": {
      "image/png": "[encoded data removed]",
      "text/plain": [
       "<Figure size 432x288 with 1 Axes>"
      ]
     },
     "metadata": {
      "needs_background": "light"
     },
     "output_type": "display_data"
    }
   ],
   "source": [
    "# Computing kmeans with K =5 (5 clusters)\n",
    "centroids,_= kmeans(dta, 5)\n",
    "# Assign each sample to a cluster\n",
    "idx,_ = vq(dta, centroids)\n",
    "\n",
    "# some plotting using numpy's logical indexing\n",
    "plot(dta[idx==0,0],dta[idx==0,1],'ob',\n",
    "     dta[idx==1,0],dta[idx==1,1],'oy',\n",
    "     dta[idx==2,0],dta[idx==2,1],'or',\n",
    "     dta[idx==3,0],dta[idx==3,1],'og',\n",
    "     dta[idx==4,0],dta[idx==4,1],'om')\n",
    "plot(centroids[:,0],centroids[:,1],'sg',markersize=8)\n",
    "show()"
   ]
  },
  {
   "cell_type": "code",
   "execution_count": 39,
   "metadata": {},
   "outputs": [
    {
     "data": {
      "text/plain": [
       "[('NASDAQ.AAL', 0),\n",
       " ('NASDAQ.AAPL', 1),\n",
       " ('NASDAQ.ADBE', 1),\n",
       " ('NASDAQ.ADI', 4),\n",
       " ('NASDAQ.ADP', 4)]"
      ]
     },
     "execution_count": 39,
     "metadata": {},
     "output_type": "execute_result"
    }
   ],
   "source": [
    "details = [(name,cluster) for name, cluster in zip(returns.index,idx)]\n",
    "details[:5]\n",
    "#for detail in details:\n",
    "#   print(list(detail))"
   ]
  },
  {
   "cell_type": "code",
   "execution_count": 40,
   "metadata": {},
   "outputs": [
    {
     "data": {
      "text/plain": [
       "1    149\n",
       "4    120\n",
       "0    101\n",
       "3     99\n",
       "2     30\n",
       "Name: Cluster_No, dtype: int64"
      ]
     },
     "execution_count": 40,
     "metadata": {},
     "output_type": "execute_result"
    }
   ],
   "source": [
    "df = pd.DataFrame(details, columns=['Stock_Name','Cluster_No'])\n",
    "df.Cluster_No.value_counts()"
   ]
  },
  {
   "cell_type": "code",
   "execution_count": 44,
   "metadata": {},
   "outputs": [
    {
     "name": "stdout",
     "output_type": "stream",
     "text": [
      "[47.03 64.26 76.28 81.13 84.93 87.74 89.74 91.05 92.1  92.85 93.53 94.11\n",
      " 94.57 95.02 95.43 95.78 96.11 96.37 96.6  96.82 97.01 97.17 97.32 97.45\n",
      " 97.58 97.7  97.81 97.91 98.   98.08 98.16 98.24 98.31 98.38 98.44 98.5\n",
      " 98.56 98.61 98.66 98.71 98.75 98.79 98.83 98.87 98.91 98.94 98.97 99.\n",
      " 99.03 99.06 99.09 99.12 99.15 99.17 99.19 99.21 99.23 99.25 99.27 99.29\n",
      " 99.31 99.33 99.35 99.37 99.39 99.41 99.43 99.45 99.46 99.47 99.48 99.49\n",
      " 99.5  99.51 99.52 99.53 99.54 99.55 99.56 99.57 99.58 99.59 99.6  99.61\n",
      " 99.62 99.63 99.64 99.65 99.66 99.67 99.68 99.69 99.7  99.71 99.72 99.73\n",
      " 99.74 99.75 99.76 99.77 99.78 99.79 99.79 99.79 99.79 99.79 99.79 99.79\n",
      " 99.79 99.79 99.79 99.79 99.79 99.79 99.79 99.79 99.79 99.79 99.79 99.79\n",
      " 99.79 99.79 99.79 99.79 99.79 99.79 99.79 99.79 99.79 99.79 99.79 99.79\n",
      " 99.79 99.79 99.79 99.79 99.79 99.79 99.79 99.79 99.79 99.79 99.79 99.79\n",
      " 99.79 99.79 99.79 99.79 99.79 99.79]\n"
     ]
    }
   ],
   "source": [
    "dt = df1.copy()\n",
    "\n",
    "from sklearn.decomposition import PCA\n",
    "from sklearn.preprocessing import StandardScaler\n",
    "\n",
    "# convert data into numpy arrays\n",
    "X = dt.values\n",
    "\n",
    "# Scaling the values\n",
    "sc = StandardScaler()\n",
    "X_scaled = sc.fit_transform(X)\n",
    "\n",
    "pca = PCA(n_components=150)\n",
    "pca.fit(X_scaled)\n",
    "\n",
    "# the amount of variance that each PCA explains\n",
    "var = pca.explained_variance_ratio_\n",
    "\n",
    "# cumulative varince explains\n",
    "var1 = np.cumsum(np.round(var, decimals=4)*100)\n",
    "print(var1)"
   ]
  },
  {
   "cell_type": "code",
   "execution_count": 45,
   "metadata": {},
   "outputs": [
    {
     "data": {
      "text/plain": [
       "[<matplotlib.lines.Line2D at 0x28a80126948>]"
      ]
     },
     "execution_count": 45,
     "metadata": {},
     "output_type": "execute_result"
    },
    {
     "data": {
      "image/png": "[encoded data removed]",
      "text/plain": [
       "<Figure size 432x288 with 1 Axes>"
      ]
     },
     "metadata": {
      "needs_background": "light"
     },
     "output_type": "display_data"
    }
   ],
   "source": [
    "plt.plot(var1)"
   ]
  },
  {
   "cell_type": "code",
   "execution_count": 46,
   "metadata": {},
   "outputs": [
    {
     "name": "stdout",
     "output_type": "stream",
     "text": [
      "[[ 25.55018064  10.00580482  -9.38207446 ...   0.55020885   0.09245867\n",
      "    2.41673315]\n",
      " [ 25.64880185   9.89282687  -9.8023104  ...   0.45213802   0.17611296\n",
      "    2.30989306]\n",
      " [ 25.56345929   9.82533675  -9.67570287 ...   0.52873112   0.04917022\n",
      "    2.05336069]\n",
      " ...\n",
      " [-22.76894921  13.32753802   6.56220278 ...  -2.15212021   1.19540159\n",
      "   -0.30644297]\n",
      " [-22.61319638  13.41831515   6.6755356  ...  -2.13783879   1.20152188\n",
      "   -0.33303353]\n",
      " [-22.72127837  13.36292841   6.60406294 ...  -2.17500419   1.18114931\n",
      "   -0.2927965 ]]\n"
     ]
    }
   ],
   "source": [
    "# Looking at above plot I can consider 25 variables \n",
    "pca = PCA(n_components =25)\n",
    "X1 = pca.fit_transform(X_scaled)\n",
    "print(X1)"
   ]
  },
  {
   "cell_type": "code",
   "execution_count": 47,
   "metadata": {},
   "outputs": [
    {
     "name": "stdout",
     "output_type": "stream",
     "text": [
      "Number of PCA : 25\n",
      "[[0.03925756 0.04106421 0.0629084  ... 0.06247664 0.00253829 0.05169773]\n",
      " [0.06428354 0.033861   0.00186129 ... 0.02040637 0.08122924 0.05950068]\n",
      " [0.03985758 0.06416494 0.01207933 ... 0.02101011 0.06637293 0.02356977]\n",
      " ...\n",
      " [0.01158689 0.0053452  0.00473658 ... 0.01179867 0.04443553 0.01198233]\n",
      " [0.07417395 0.02149857 0.00906395 ... 0.00119469 0.01825988 0.04840159]\n",
      " [0.021409   0.03325099 0.0369591  ... 0.00430867 0.02076034 0.02523377]]\n"
     ]
    }
   ],
   "source": [
    "print('Number of PCA :',len(pca.components_))\n",
    "print(abs(pca.components_))"
   ]
  },
  {
   "cell_type": "code",
   "execution_count": 48,
   "metadata": {},
   "outputs": [
    {
     "data": {
      "text/html": [
       "<div>\n",
       "<style scoped>\n",
       "    .dataframe tbody tr th:only-of-type {\n",
       "        vertical-align: middle;\n",
       "    }\n",
       "\n",
       "    .dataframe tbody tr th {\n",
       "        vertical-align: top;\n",
       "    }\n",
       "\n",
       "    .dataframe thead th {\n",
       "        text-align: right;\n",
       "    }\n",
       "</style>\n",
       "<table border=\"1\" class=\"dataframe\">\n",
       "  <thead>\n",
       "    <tr style=\"text-align: right;\">\n",
       "      <th></th>\n",
       "      <th>NASDAQ.AAL</th>\n",
       "      <th>NASDAQ.AAPL</th>\n",
       "      <th>NASDAQ.ADBE</th>\n",
       "      <th>NASDAQ.ADI</th>\n",
       "      <th>NASDAQ.ADP</th>\n",
       "      <th>NASDAQ.ADSK</th>\n",
       "      <th>NASDAQ.AKAM</th>\n",
       "      <th>NASDAQ.ALXN</th>\n",
       "      <th>NASDAQ.AMAT</th>\n",
       "      <th>NASDAQ.AMD</th>\n",
       "      <th>...</th>\n",
       "      <th>NYSE.WYN</th>\n",
       "      <th>NYSE.XEC</th>\n",
       "      <th>NYSE.XEL</th>\n",
       "      <th>NYSE.XL</th>\n",
       "      <th>NYSE.XOM</th>\n",
       "      <th>NYSE.XRX</th>\n",
       "      <th>NYSE.XYL</th>\n",
       "      <th>NYSE.YUM</th>\n",
       "      <th>NYSE.ZBH</th>\n",
       "      <th>NYSE.ZTS</th>\n",
       "    </tr>\n",
       "  </thead>\n",
       "  <tbody>\n",
       "    <tr>\n",
       "      <th>0</th>\n",
       "      <td>-0.039258</td>\n",
       "      <td>-0.041064</td>\n",
       "      <td>-0.062908</td>\n",
       "      <td>-0.009788</td>\n",
       "      <td>-0.035866</td>\n",
       "      <td>-0.054668</td>\n",
       "      <td>0.050356</td>\n",
       "      <td>-0.035396</td>\n",
       "      <td>-0.044060</td>\n",
       "      <td>-0.014671</td>\n",
       "      <td>...</td>\n",
       "      <td>-0.049413</td>\n",
       "      <td>0.057001</td>\n",
       "      <td>-0.054623</td>\n",
       "      <td>-0.050608</td>\n",
       "      <td>0.047199</td>\n",
       "      <td>-0.057897</td>\n",
       "      <td>-0.061392</td>\n",
       "      <td>-0.062477</td>\n",
       "      <td>0.002538</td>\n",
       "      <td>-0.051698</td>\n",
       "    </tr>\n",
       "    <tr>\n",
       "      <th>1</th>\n",
       "      <td>-0.064284</td>\n",
       "      <td>0.033861</td>\n",
       "      <td>0.001861</td>\n",
       "      <td>-0.032453</td>\n",
       "      <td>0.043511</td>\n",
       "      <td>-0.029519</td>\n",
       "      <td>0.016178</td>\n",
       "      <td>0.058286</td>\n",
       "      <td>-0.052667</td>\n",
       "      <td>0.012376</td>\n",
       "      <td>...</td>\n",
       "      <td>-0.058941</td>\n",
       "      <td>0.030277</td>\n",
       "      <td>0.013643</td>\n",
       "      <td>-0.040769</td>\n",
       "      <td>-0.052795</td>\n",
       "      <td>0.010238</td>\n",
       "      <td>0.031466</td>\n",
       "      <td>-0.020406</td>\n",
       "      <td>-0.081229</td>\n",
       "      <td>-0.059501</td>\n",
       "    </tr>\n",
       "    <tr>\n",
       "      <th>2</th>\n",
       "      <td>-0.039858</td>\n",
       "      <td>0.064165</td>\n",
       "      <td>0.012079</td>\n",
       "      <td>0.043266</td>\n",
       "      <td>-0.037239</td>\n",
       "      <td>0.040506</td>\n",
       "      <td>-0.053892</td>\n",
       "      <td>-0.051099</td>\n",
       "      <td>0.030738</td>\n",
       "      <td>-0.086428</td>\n",
       "      <td>...</td>\n",
       "      <td>-0.003223</td>\n",
       "      <td>0.022125</td>\n",
       "      <td>0.059617</td>\n",
       "      <td>-0.034587</td>\n",
       "      <td>-0.028712</td>\n",
       "      <td>-0.039074</td>\n",
       "      <td>-0.004342</td>\n",
       "      <td>0.021010</td>\n",
       "      <td>-0.066373</td>\n",
       "      <td>0.023570</td>\n",
       "    </tr>\n",
       "    <tr>\n",
       "      <th>3</th>\n",
       "      <td>0.007578</td>\n",
       "      <td>0.077164</td>\n",
       "      <td>0.008564</td>\n",
       "      <td>-0.027896</td>\n",
       "      <td>-0.017418</td>\n",
       "      <td>0.008973</td>\n",
       "      <td>-0.032239</td>\n",
       "      <td>0.034448</td>\n",
       "      <td>0.051511</td>\n",
       "      <td>-0.077594</td>\n",
       "      <td>...</td>\n",
       "      <td>0.021692</td>\n",
       "      <td>0.060885</td>\n",
       "      <td>-0.039630</td>\n",
       "      <td>0.027694</td>\n",
       "      <td>0.012100</td>\n",
       "      <td>-0.039575</td>\n",
       "      <td>0.002900</td>\n",
       "      <td>-0.002703</td>\n",
       "      <td>-0.049420</td>\n",
       "      <td>0.015160</td>\n",
       "    </tr>\n",
       "    <tr>\n",
       "      <th>4</th>\n",
       "      <td>-0.033303</td>\n",
       "      <td>-0.016981</td>\n",
       "      <td>0.002438</td>\n",
       "      <td>-0.038330</td>\n",
       "      <td>-0.102023</td>\n",
       "      <td>-0.034831</td>\n",
       "      <td>-0.011187</td>\n",
       "      <td>0.037595</td>\n",
       "      <td>-0.039683</td>\n",
       "      <td>-0.014357</td>\n",
       "      <td>...</td>\n",
       "      <td>-0.036672</td>\n",
       "      <td>-0.011451</td>\n",
       "      <td>-0.030314</td>\n",
       "      <td>-0.012030</td>\n",
       "      <td>-0.045731</td>\n",
       "      <td>0.029255</td>\n",
       "      <td>-0.003013</td>\n",
       "      <td>-0.001339</td>\n",
       "      <td>-0.003603</td>\n",
       "      <td>0.005364</td>\n",
       "    </tr>\n",
       "  </tbody>\n",
       "</table>\n",
       "<p>5 rows × 500 columns</p>\n",
       "</div>"
      ],
      "text/plain": [
       "   NASDAQ.AAL  NASDAQ.AAPL  NASDAQ.ADBE  NASDAQ.ADI  NASDAQ.ADP  NASDAQ.ADSK  \\\n",
       "0   -0.039258    -0.041064    -0.062908   -0.009788   -0.035866    -0.054668   \n",
       "1   -0.064284     0.033861     0.001861   -0.032453    0.043511    -0.029519   \n",
       "2   -0.039858     0.064165     0.012079    0.043266   -0.037239     0.040506   \n",
       "3    0.007578     0.077164     0.008564   -0.027896   -0.017418     0.008973   \n",
       "4   -0.033303    -0.016981     0.002438   -0.038330   -0.102023    -0.034831   \n",
       "\n",
       "   NASDAQ.AKAM  NASDAQ.ALXN  NASDAQ.AMAT  NASDAQ.AMD  ...  NYSE.WYN  NYSE.XEC  \\\n",
       "0     0.050356    -0.035396    -0.044060   -0.014671  ... -0.049413  0.057001   \n",
       "1     0.016178     0.058286    -0.052667    0.012376  ... -0.058941  0.030277   \n",
       "2    -0.053892    -0.051099     0.030738   -0.086428  ... -0.003223  0.022125   \n",
       "3    -0.032239     0.034448     0.051511   -0.077594  ...  0.021692  0.060885   \n",
       "4    -0.011187     0.037595    -0.039683   -0.014357  ... -0.036672 -0.011451   \n",
       "\n",
       "   NYSE.XEL   NYSE.XL  NYSE.XOM  NYSE.XRX  NYSE.XYL  NYSE.YUM  NYSE.ZBH  \\\n",
       "0 -0.054623 -0.050608  0.047199 -0.057897 -0.061392 -0.062477  0.002538   \n",
       "1  0.013643 -0.040769 -0.052795  0.010238  0.031466 -0.020406 -0.081229   \n",
       "2  0.059617 -0.034587 -0.028712 -0.039074 -0.004342  0.021010 -0.066373   \n",
       "3 -0.039630  0.027694  0.012100 -0.039575  0.002900 -0.002703 -0.049420   \n",
       "4 -0.030314 -0.012030 -0.045731  0.029255 -0.003013 -0.001339 -0.003603   \n",
       "\n",
       "   NYSE.ZTS  \n",
       "0 -0.051698  \n",
       "1 -0.059501  \n",
       "2  0.023570  \n",
       "3  0.015160  \n",
       "4  0.005364  \n",
       "\n",
       "[5 rows x 500 columns]"
      ]
     },
     "execution_count": 48,
     "metadata": {},
     "output_type": "execute_result"
    }
   ],
   "source": [
    "comp = pd.DataFrame(pca.components_, columns = dt.columns)\n",
    "comp.head()"
   ]
  },
  {
   "cell_type": "code",
   "execution_count": 50,
   "metadata": {},
   "outputs": [
    {
     "name": "stdout",
     "output_type": "stream",
     "text": [
      "<class 'pandas.core.frame.DataFrame'>\n",
      "RangeIndex: 25 entries, 0 to 24\n",
      "Columns: 500 entries, NASDAQ.AAL to NYSE.ZTS\n",
      "dtypes: float64(500)\n",
      "memory usage: 97.8 KB\n"
     ]
    }
   ],
   "source": []
  },
  {
   "cell_type": "code",
   "execution_count": null,
   "metadata": {},
   "outputs": [],
   "source": []
  }
 ],
 "metadata": {
  "kernelspec": {
   "display_name": "Python 3",
   "language": "python",
   "name": "python3"
  },
  "language_info": {
   "codemirror_mode": {
    "name": "ipython",
    "version": 3
   },
   "file_extension": ".py",
   "mimetype": "text/x-python",
   "name": "python",
   "nbconvert_exporter": "python",
   "pygments_lexer": "ipython3",
   "version": "3.7.6"
  }
 },
 "nbformat": 4,
 "nbformat_minor": 4
}
