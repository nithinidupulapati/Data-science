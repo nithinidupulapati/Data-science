{
 "cells": [
  {
   "cell_type": "markdown",
   "metadata": {},
   "source": [
    "# Assignment Exception handling"
   ]
  },
  {
   "cell_type": "markdown",
   "metadata": {},
   "source": [
    "# Question 1\n",
    "\n",
    "Write a function to compute 5/0 and use try/except to catch the exceptions."
   ]
  },
  {
   "cell_type": "code",
   "execution_count": 7,
   "metadata": {},
   "outputs": [
    {
     "name": "stdout",
     "output_type": "stream",
     "text": [
      "this block is having some kind of issue :  division by zero\n"
     ]
    }
   ],
   "source": [
    "def compute():\n",
    "    try:\n",
    "        5/0\n",
    "    except Exception as e :\n",
    "        print(\"exception: \" , e)\n",
    "compute()"
   ]
  },
  {
   "cell_type": "markdown",
   "metadata": {},
   "source": [
    "# Question 2\n",
    "\n",
    "Implement a Python program to generate all sentences where subject is in\n",
    "[\"Americans\", \"Indians\"] and verb is in [\"Play\", \"watch\"] and the object is in\n",
    "[\"Baseball\",\"cricket\"].\n",
    "Hint: Subject,Verb and Object should be declared in the program as shown below.\n",
    "subjects=[\"Americans \",\"Indians\"]\n",
    "verbs=[\"play\",\"watch\"]\n",
    "objects=[\"Baseball\",\"Cricket\"]\n",
    "Output should come as below:\n",
    "Americans play Baseball.\n",
    "Americans play Cricket.\n",
    "Americans watch Baseball.\n",
    "Americans watch Cricket.\n",
    "Indians play Baseball.\n",
    "Indians play Cricket.\n",
    "Indians watch Baseball.\n",
    "Indians watch Cricket."
   ]
  },
  {
   "cell_type": "code",
   "execution_count": 15,
   "metadata": {},
   "outputs": [
    {
     "name": "stdout",
     "output_type": "stream",
     "text": [
      "Americans  play Baseball.\n",
      "Americans  play Cricket.\n",
      "Americans  watch Baseball.\n",
      "Americans  watch Cricket.\n",
      "Indians play Baseball.\n",
      "Indians play Cricket.\n",
      "Indians watch Baseball.\n",
      "Indians watch Cricket.\n"
     ]
    }
   ],
   "source": [
    "subjects=[\"Americans \",\"Indians\"]\n",
    "verbs=[\"play\",\"watch\"]\n",
    "objects=[\"Baseball\",\"Cricket\"]\n",
    "for i in subjects:\n",
    "    for j in verbs:\n",
    "        for k in objects:\n",
    "            print(i+\" \"+j+\" \"+k+\".\")"
   ]
  },
  {
   "cell_type": "code",
   "execution_count": null,
   "metadata": {},
   "outputs": [],
   "source": []
  }
 ],
 "metadata": {
  "kernelspec": {
   "display_name": "Python 3",
   "language": "python",
   "name": "python3"
  },
  "language_info": {
   "codemirror_mode": {
    "name": "ipython",
    "version": 3
   },
   "file_extension": ".py",
   "mimetype": "text/x-python",
   "name": "python",
   "nbconvert_exporter": "python",
   "pygments_lexer": "ipython3",
   "version": "3.7.6"
  }
 },
 "nbformat": 4,
 "nbformat_minor": 4
}
