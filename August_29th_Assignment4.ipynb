{
 "cells": [
  {
   "cell_type": "markdown",
   "metadata": {},
   "source": [
    "# ASSIGNMENT 4"
   ]
  },
  {
   "cell_type": "markdown",
   "metadata": {},
   "source": [
    "# Question 1.1\n",
    "\n",
    "Write a Python Program(with class concepts) to find the area of the triangle using the below\n",
    "formula.\n",
    "area = (s*(s-a)*(s-b)*(s-c)) ** 0.5\n",
    "Function to take the length of the sides of triangle from user should be defined in the parent\n",
    "class and function to calculate the area should be defined in subclass."
   ]
  },
  {
   "cell_type": "code",
   "execution_count": 12,
   "metadata": {},
   "outputs": [
    {
     "name": "stdout",
     "output_type": "stream",
     "text": [
      "Enter first side of a triangle: 3\n",
      "Enter first side of a triangle: 4\n",
      "Enter first side of a triangle: 5\n",
      "Area of the triangle is 6 .\n"
     ]
    }
   ],
   "source": [
    "class triangle:\n",
    "    def __init__(self,length_of_firstside,length_of_secondside,length_of_thirdside):\n",
    "        self.len_of_1stside=length_of_firstside\n",
    "        self.len_of_2ndside=length_of_secondside\n",
    "        self.len_of_3rdside=length_of_thirdside\n",
    "    def __str__(self):\n",
    "        return \"Length of 3 sides of a triqngle are %d %d %d .\" % (self.len_of_1stside, self.len_of_2ndside, self.len_of_3rdside)\n",
    "\n",
    "class area_of_triangle(triangle):\n",
    "    def __init__(self,*args):\n",
    "        super(area_of_triangle,self).__init__(*args)\n",
    "    def __str__(self):\n",
    "        s=(self.len_of_1stside+self.len_of_2ndside+self.len_of_3rdside)/2\n",
    "        return \"Area of the triangle is %d .\" % (s*(s-self.len_of_1stside)*(s-self.len_of_2ndside)* (s-self.len_of_3rdside))**0.5\n",
    "\n",
    "print(area_of_triangle(int(input('Enter first side of a triangle: ')),int(input('Enter first side of a triangle: ')),int(input('Enter first side of a triangle: '))))\n",
    "        "
   ]
  },
  {
   "cell_type": "markdown",
   "metadata": {},
   "source": [
    "# Question 1.2\n",
    "\n",
    "Write a function filter_long_words() that takes a list of words and an integer n and returns\n",
    "the list of words that are longer than n."
   ]
  },
  {
   "cell_type": "code",
   "execution_count": 24,
   "metadata": {},
   "outputs": [
    {
     "name": "stdout",
     "output_type": "stream",
     "text": [
      "enter all the words you need to checkWrite a function filter_long_words()\n",
      "enter the min length required for a word: 3\n",
      "list of words with length greater than 3 are ['Write', 'function', 'filter_long_words()']\n"
     ]
    }
   ],
   "source": [
    "l=input('enter all the words you need to check: ').split()\n",
    "\n",
    "def filter_long_words(k,n):\n",
    "    j=[]\n",
    "    [j.append(i) for i in k if len(i)>=n]\n",
    "    return j\n",
    "n=int(input('enter the min length required for a word: '))\n",
    "print('list of words with length greater than {} are {}' .format(n, filter_long_words(l,n)))\n"
   ]
  },
  {
   "cell_type": "markdown",
   "metadata": {},
   "source": [
    "# Question 2.1\n",
    "\n",
    "Write a Python program using function concept that maps list of words into a list of integers\n",
    "representing the lengths of the corresponding words.\n",
    "Hint: If a list [ ab,cde,erty] is passed on to the python function output should come as [2,3,4]\n",
    "Here 2,3 and 4 are the lengths of the words in the list."
   ]
  },
  {
   "cell_type": "code",
   "execution_count": 31,
   "metadata": {},
   "outputs": [
    {
     "name": "stdout",
     "output_type": "stream",
     "text": [
      "enter all the words you need to check: maps list of words into a list of integers\n",
      "mapping of list of words ['maps', 'list', 'of', 'words', 'into', 'a', 'list', 'of', 'integers'] to their length [4, 4, 2, 5, 4, 1, 4, 2, 8] \n"
     ]
    }
   ],
   "source": [
    "l=input('enter all the words you need to check: ').split()\n",
    "print('mapping of list of words {} to their length {} '.format(l,list(map(lambda x:len(x), l))))"
   ]
  },
  {
   "cell_type": "markdown",
   "metadata": {},
   "source": [
    "# Question 2.2\n",
    "\n",
    "Write a Python function which takes a character (i.e. a string of length 1) and returns True if\n",
    "it is a vowel, False otherwise."
   ]
  },
  {
   "cell_type": "code",
   "execution_count": 55,
   "metadata": {},
   "outputs": [
    {
     "name": "stdout",
     "output_type": "stream",
     "text": [
      "enter a charecter: W\n",
      "False\n"
     ]
    }
   ],
   "source": [
    "def check_if_vowel(c):\n",
    "    j=0\n",
    "    if len(c) == 1:\n",
    "        if c in ['a','e', 'i', 'o','u', 'A','E','I', 'O', 'U']:\n",
    "            print('True')\n",
    "        else:\n",
    "            print('False')\n",
    "    else:\n",
    "        print('Length of the char is morethan one')\n",
    "        \n",
    "check_if_vowel(input('enter a charecter: '))  "
   ]
  },
  {
   "cell_type": "code",
   "execution_count": null,
   "metadata": {},
   "outputs": [],
   "source": []
  },
  {
   "cell_type": "code",
   "execution_count": null,
   "metadata": {},
   "outputs": [],
   "source": []
  }
 ],
 "metadata": {
  "kernelspec": {
   "display_name": "Python 3",
   "language": "python",
   "name": "python3"
  },
  "language_info": {
   "codemirror_mode": {
    "name": "ipython",
    "version": 3
   },
   "file_extension": ".py",
   "mimetype": "text/x-python",
   "name": "python",
   "nbconvert_exporter": "python",
   "pygments_lexer": "ipython3",
   "version": "3.7.6"
  }
 },
 "nbformat": 4,
 "nbformat_minor": 4
}
