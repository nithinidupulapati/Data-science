{
 "cells": [
  {
   "cell_type": "markdown",
   "metadata": {},
   "source": [
    "# Numpy_Assignment "
   ]
  },
  {
   "cell_type": "markdown",
   "metadata": {},
   "source": [
    "# Question\n",
    "\n",
    "Write a function to find moving average in an array over a window:"
   ]
  },
  {
   "cell_type": "code",
   "execution_count": 20,
   "metadata": {},
   "outputs": [
    {
     "name": "stdout",
     "output_type": "stream",
     "text": [
      " Enter how many numbers required to test: 13\n",
      "enter number: 3\n",
      "enter number: 5\n",
      "enter number: 7\n",
      "enter number: 2\n",
      "enter number: 8\n",
      "enter number: 10\n",
      "enter number: 11\n",
      "enter number: 65\n",
      "enter number: 72\n",
      "enter number: 81\n",
      "enter number: 99\n",
      "enter number: 100\n",
      "enter number: 150\n",
      "Enter window size: 3\n"
     ]
    },
    {
     "data": {
      "application/javascript": [
       "\n",
       "        if (window._pyforest_update_imports_cell) { window._pyforest_update_imports_cell('import numpy as np'); }\n",
       "    "
      ],
      "text/plain": [
       "<IPython.core.display.Javascript object>"
      ]
     },
     "metadata": {},
     "output_type": "display_data"
    },
    {
     "name": "stdout",
     "output_type": "stream",
     "text": [
      "Array =[  3   5   7   2   8  10  11  65  72  81  99 100 150]\n",
      "Moving average of [3 5 7] is 5.0 \n",
      "Moving average of [5 7 2] is 4.666666666666667 \n",
      "Moving average of [7 2 8] is 5.666666666666667 \n",
      "Moving average of [ 2  8 10] is 6.666666666666667 \n",
      "Moving average of [ 8 10 11] is 9.666666666666666 \n",
      "Moving average of [10 11 65] is 28.666666666666668 \n",
      "Moving average of [11 65 72] is 49.333333333333336 \n",
      "Moving average of [65 72 81] is 72.66666666666667 \n",
      "Moving average of [72 81 99] is 84.0 \n",
      "Moving average of [ 81  99 100] is 93.33333333333333 \n",
      "Moving average of [ 99 100 150] is 116.33333333333333 \n"
     ]
    }
   ],
   "source": [
    "def moving_average(n,k):\n",
    "    n=np.array(n)\n",
    "    print('Array ={}' .format(n))\n",
    "    for i in range(0,len(n)-k+1):\n",
    "        print(\"Moving average of {} is {} \" .format(n[i:i+k], n[i:i+k].mean()))\n",
    "    return\n",
    "n=[int(input('enter number: ')) for i in range(0,int(input(' Enter how many numbers required to test: ')))]\n",
    "moving_average(n,int(input('Enter window size: ')))"
   ]
  },
  {
   "cell_type": "code",
   "execution_count": null,
   "metadata": {},
   "outputs": [],
   "source": []
  }
 ],
 "metadata": {
  "kernelspec": {
   "display_name": "Python 3",
   "language": "python",
   "name": "python3"
  },
  "language_info": {
   "codemirror_mode": {
    "name": "ipython",
    "version": 3
   },
   "file_extension": ".py",
   "mimetype": "text/x-python",
   "name": "python",
   "nbconvert_exporter": "python",
   "pygments_lexer": "ipython3",
   "version": "3.7.6"
  }
 },
 "nbformat": 4,
 "nbformat_minor": 4
}
